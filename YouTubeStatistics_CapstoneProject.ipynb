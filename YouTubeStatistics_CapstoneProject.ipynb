{
 "cells": [
  {
   "cell_type": "markdown",
   "id": "0c576f1b-3153-4351-a05b-783303a1824f",
   "metadata": {},
   "source": [
    "### YouTube Sentiment Analysis - Capstone Project \n",
    "#### Exploring the Relationship between Engagement Metrics, Keywords, and Comment Sentiment\n",
    "\n",
    "#### BY: Daphney Oliveira"
   ]
  },
  {
   "cell_type": "code",
   "execution_count": 1,
   "id": "d961111a-a12e-4c21-b62b-06864f411fa7",
   "metadata": {},
   "outputs": [],
   "source": [
    "#importing the libraries\n",
    "import pandas as pd\n",
    "import numpy as np\n",
    "from matplotlib import pyplot as plt\n",
    "import seaborn as sns\n",
    "import jupyterthemes "
   ]
  },
  {
   "cell_type": "code",
   "execution_count": 2,
   "id": "d4308500-0669-47ce-a46c-40621e1de37e",
   "metadata": {},
   "outputs": [
    {
     "name": "stdout",
     "output_type": "stream",
     "text": [
      "<class 'pandas.core.frame.DataFrame'>\n",
      "RangeIndex: 18409 entries, 0 to 18408\n",
      "Data columns (total 5 columns):\n",
      " #   Column      Non-Null Count  Dtype  \n",
      "---  ------      --------------  -----  \n",
      " 0   Unnamed: 0  18409 non-null  int64  \n",
      " 1   Video ID    18409 non-null  object \n",
      " 2   Comment     18408 non-null  object \n",
      " 3   Likes       18409 non-null  float64\n",
      " 4   Sentiment   18409 non-null  float64\n",
      "dtypes: float64(2), int64(1), object(2)\n",
      "memory usage: 719.2+ KB\n"
     ]
    },
    {
     "data": {
      "text/html": [
       "<div>\n",
       "<style scoped>\n",
       "    .dataframe tbody tr th:only-of-type {\n",
       "        vertical-align: middle;\n",
       "    }\n",
       "\n",
       "    .dataframe tbody tr th {\n",
       "        vertical-align: top;\n",
       "    }\n",
       "\n",
       "    .dataframe thead th {\n",
       "        text-align: right;\n",
       "    }\n",
       "</style>\n",
       "<table border=\"1\" class=\"dataframe\">\n",
       "  <thead>\n",
       "    <tr style=\"text-align: right;\">\n",
       "      <th></th>\n",
       "      <th>Unnamed: 0</th>\n",
       "      <th>Likes</th>\n",
       "      <th>Sentiment</th>\n",
       "    </tr>\n",
       "  </thead>\n",
       "  <tbody>\n",
       "    <tr>\n",
       "      <th>count</th>\n",
       "      <td>18409.000000</td>\n",
       "      <td>18409.000000</td>\n",
       "      <td>18409.000000</td>\n",
       "    </tr>\n",
       "    <tr>\n",
       "      <th>mean</th>\n",
       "      <td>9204.000000</td>\n",
       "      <td>1040.019447</td>\n",
       "      <td>1.493998</td>\n",
       "    </tr>\n",
       "    <tr>\n",
       "      <th>std</th>\n",
       "      <td>5314.364888</td>\n",
       "      <td>10651.366148</td>\n",
       "      <td>0.709928</td>\n",
       "    </tr>\n",
       "    <tr>\n",
       "      <th>min</th>\n",
       "      <td>0.000000</td>\n",
       "      <td>0.000000</td>\n",
       "      <td>0.000000</td>\n",
       "    </tr>\n",
       "    <tr>\n",
       "      <th>25%</th>\n",
       "      <td>4602.000000</td>\n",
       "      <td>5.000000</td>\n",
       "      <td>1.000000</td>\n",
       "    </tr>\n",
       "    <tr>\n",
       "      <th>50%</th>\n",
       "      <td>9204.000000</td>\n",
       "      <td>29.000000</td>\n",
       "      <td>2.000000</td>\n",
       "    </tr>\n",
       "    <tr>\n",
       "      <th>75%</th>\n",
       "      <td>13806.000000</td>\n",
       "      <td>190.000000</td>\n",
       "      <td>2.000000</td>\n",
       "    </tr>\n",
       "    <tr>\n",
       "      <th>max</th>\n",
       "      <td>18408.000000</td>\n",
       "      <td>891372.000000</td>\n",
       "      <td>2.000000</td>\n",
       "    </tr>\n",
       "  </tbody>\n",
       "</table>\n",
       "</div>"
      ],
      "text/plain": [
       "         Unnamed: 0          Likes     Sentiment\n",
       "count  18409.000000   18409.000000  18409.000000\n",
       "mean    9204.000000    1040.019447      1.493998\n",
       "std     5314.364888   10651.366148      0.709928\n",
       "min        0.000000       0.000000      0.000000\n",
       "25%     4602.000000       5.000000      1.000000\n",
       "50%     9204.000000      29.000000      2.000000\n",
       "75%    13806.000000     190.000000      2.000000\n",
       "max    18408.000000  891372.000000      2.000000"
      ]
     },
     "execution_count": 2,
     "metadata": {},
     "output_type": "execute_result"
    }
   ],
   "source": [
    "#Reading and looking at the data in the comments file\n",
    "\n",
    "comments_df = pd.read_csv(\"comments.csv\") \n",
    "comments_df.info()\n",
    "comments_df.describe()"
   ]
  },
  {
   "cell_type": "code",
   "execution_count": 3,
   "id": "9d5a3824-ba4e-47f7-96b0-5973c48d718c",
   "metadata": {},
   "outputs": [
    {
     "name": "stdout",
     "output_type": "stream",
     "text": [
      "<class 'pandas.core.frame.DataFrame'>\n",
      "RangeIndex: 1881 entries, 0 to 1880\n",
      "Data columns (total 8 columns):\n",
      " #   Column        Non-Null Count  Dtype  \n",
      "---  ------        --------------  -----  \n",
      " 0   Unnamed: 0    1881 non-null   int64  \n",
      " 1   Title         1881 non-null   object \n",
      " 2   Video ID      1881 non-null   object \n",
      " 3   Published At  1881 non-null   object \n",
      " 4   Keyword       1881 non-null   object \n",
      " 5   Likes         1879 non-null   float64\n",
      " 6   Comments      1879 non-null   float64\n",
      " 7   Views         1879 non-null   float64\n",
      "dtypes: float64(3), int64(1), object(4)\n",
      "memory usage: 117.7+ KB\n"
     ]
    },
    {
     "data": {
      "text/html": [
       "<div>\n",
       "<style scoped>\n",
       "    .dataframe tbody tr th:only-of-type {\n",
       "        vertical-align: middle;\n",
       "    }\n",
       "\n",
       "    .dataframe tbody tr th {\n",
       "        vertical-align: top;\n",
       "    }\n",
       "\n",
       "    .dataframe thead th {\n",
       "        text-align: right;\n",
       "    }\n",
       "</style>\n",
       "<table border=\"1\" class=\"dataframe\">\n",
       "  <thead>\n",
       "    <tr style=\"text-align: right;\">\n",
       "      <th></th>\n",
       "      <th>Unnamed: 0</th>\n",
       "      <th>Likes</th>\n",
       "      <th>Comments</th>\n",
       "      <th>Views</th>\n",
       "    </tr>\n",
       "  </thead>\n",
       "  <tbody>\n",
       "    <tr>\n",
       "      <th>count</th>\n",
       "      <td>1881.000000</td>\n",
       "      <td>1.879000e+03</td>\n",
       "      <td>1879.000000</td>\n",
       "      <td>1.879000e+03</td>\n",
       "    </tr>\n",
       "    <tr>\n",
       "      <th>mean</th>\n",
       "      <td>940.000000</td>\n",
       "      <td>1.700610e+05</td>\n",
       "      <td>7863.331559</td>\n",
       "      <td>1.161292e+07</td>\n",
       "    </tr>\n",
       "    <tr>\n",
       "      <th>std</th>\n",
       "      <td>543.142247</td>\n",
       "      <td>7.962293e+05</td>\n",
       "      <td>37879.964926</td>\n",
       "      <td>1.084450e+08</td>\n",
       "    </tr>\n",
       "    <tr>\n",
       "      <th>min</th>\n",
       "      <td>0.000000</td>\n",
       "      <td>-1.000000e+00</td>\n",
       "      <td>-1.000000</td>\n",
       "      <td>2.500000e+01</td>\n",
       "    </tr>\n",
       "    <tr>\n",
       "      <th>25%</th>\n",
       "      <td>470.000000</td>\n",
       "      <td>2.672500e+03</td>\n",
       "      <td>199.000000</td>\n",
       "      <td>8.451500e+04</td>\n",
       "    </tr>\n",
       "    <tr>\n",
       "      <th>50%</th>\n",
       "      <td>940.000000</td>\n",
       "      <td>1.478700e+04</td>\n",
       "      <td>814.000000</td>\n",
       "      <td>5.917210e+05</td>\n",
       "    </tr>\n",
       "    <tr>\n",
       "      <th>75%</th>\n",
       "      <td>1410.000000</td>\n",
       "      <td>6.090600e+04</td>\n",
       "      <td>3377.500000</td>\n",
       "      <td>2.804978e+06</td>\n",
       "    </tr>\n",
       "    <tr>\n",
       "      <th>max</th>\n",
       "      <td>1880.000000</td>\n",
       "      <td>1.644556e+07</td>\n",
       "      <td>732818.000000</td>\n",
       "      <td>4.034122e+09</td>\n",
       "    </tr>\n",
       "  </tbody>\n",
       "</table>\n",
       "</div>"
      ],
      "text/plain": [
       "        Unnamed: 0         Likes       Comments         Views\n",
       "count  1881.000000  1.879000e+03    1879.000000  1.879000e+03\n",
       "mean    940.000000  1.700610e+05    7863.331559  1.161292e+07\n",
       "std     543.142247  7.962293e+05   37879.964926  1.084450e+08\n",
       "min       0.000000 -1.000000e+00      -1.000000  2.500000e+01\n",
       "25%     470.000000  2.672500e+03     199.000000  8.451500e+04\n",
       "50%     940.000000  1.478700e+04     814.000000  5.917210e+05\n",
       "75%    1410.000000  6.090600e+04    3377.500000  2.804978e+06\n",
       "max    1880.000000  1.644556e+07  732818.000000  4.034122e+09"
      ]
     },
     "execution_count": 3,
     "metadata": {},
     "output_type": "execute_result"
    }
   ],
   "source": [
    "#Reading and looking at the data in the video-stats file\n",
    "\n",
    "videostats_df = pd.read_csv(\"videos-stats.csv\") \n",
    "videostats_df.info()\n",
    "videostats_df.describe()"
   ]
  },
  {
   "cell_type": "code",
   "execution_count": 4,
   "id": "df4439c2-4b3c-4d40-941f-00ea06daec14",
   "metadata": {},
   "outputs": [
    {
     "name": "stdout",
     "output_type": "stream",
     "text": [
      "Comments Dataset is of  2  dimensions.\n",
      "Video-Stats Dataset is of  2  dimensions.\n"
     ]
    }
   ],
   "source": [
    "#Determining the dimensions of both datasets\n",
    "\n",
    "print(\"Comments Dataset is of \", comments_df.ndim, \" dimensions.\")\n",
    "print(\"Video-Stats Dataset is of \", videostats_df.ndim, \" dimensions.\")"
   ]
  },
  {
   "cell_type": "code",
   "execution_count": 5,
   "id": "a14795ce-fb17-40fd-bbf7-ced03dcac567",
   "metadata": {},
   "outputs": [
    {
     "name": "stdout",
     "output_type": "stream",
     "text": [
      "Comments Dataset has  18409  rows and  5 columns.\n",
      "Video-Stats Dataset has  1881  rows and  8 columns.\n"
     ]
    }
   ],
   "source": [
    "#Determining the shape of both datasets\n",
    "\n",
    "print(\"Comments Dataset has \", comments_df.shape[0], \" rows\",\"and \", comments_df.shape[1], \"columns.\")\n",
    "print(\"Video-Stats Dataset has \", videostats_df.shape[0], \" rows\",\"and \", videostats_df.shape[1], \"columns.\")"
   ]
  },
  {
   "cell_type": "code",
   "execution_count": 6,
   "id": "0cf0a50d-95f2-44bf-8df9-bc4d96011605",
   "metadata": {},
   "outputs": [
    {
     "name": "stdout",
     "output_type": "stream",
     "text": [
      "Comments - Data Types: \n",
      "Unnamed: 0      int64\n",
      "Video ID       object\n",
      "Comment        object\n",
      "Likes         float64\n",
      "Sentiment     float64\n",
      "dtype: object\n"
     ]
    }
   ],
   "source": [
    "#Looking at the datatypes in the comments file\n",
    "\n",
    "print(\"Comments - Data Types: \")\n",
    "print(comments_df.dtypes)"
   ]
  },
  {
   "cell_type": "code",
   "execution_count": 7,
   "id": "a5f832db-d7da-46c2-aa1c-abab3192abc5",
   "metadata": {},
   "outputs": [
    {
     "name": "stdout",
     "output_type": "stream",
     "text": [
      "Video-Stats - Data Types: \n",
      "Unnamed: 0        int64\n",
      "Title            object\n",
      "Video ID         object\n",
      "Published At     object\n",
      "Keyword          object\n",
      "Likes           float64\n",
      "Comments        float64\n",
      "Views           float64\n",
      "dtype: object\n"
     ]
    }
   ],
   "source": [
    "#Looking at the datatypes in the video-stats file\n",
    "\n",
    "print(\"Video-Stats - Data Types: \")\n",
    "print(videostats_df.dtypes)"
   ]
  },
  {
   "cell_type": "markdown",
   "id": "3cea80b9-e69c-47ea-b54d-9fd8d2836b4f",
   "metadata": {},
   "source": [
    "### Data Cleaning\n",
    "#### Dropping the unnamed column, renaming columns prior to joining tables, and removing punctuation and stop words"
   ]
  },
  {
   "cell_type": "markdown",
   "id": "d4d6891b-5383-49c6-a765-8ccbb318cbe8",
   "metadata": {},
   "source": [
    "#### I'll begin by cleaning the comments dataframe:"
   ]
  },
  {
   "cell_type": "code",
   "execution_count": 11,
   "id": "412ef181-80ca-40cc-9aa3-8b1edeab5fa9",
   "metadata": {},
   "outputs": [],
   "source": [
    "#dropped the unnamed column from the comments dataframe\n",
    "\n",
    "comm = comments_df.drop(columns='Unnamed: 0')"
   ]
  },
  {
   "cell_type": "code",
   "execution_count": 9,
   "id": "6ef74239-4874-4509-94fd-e8f9b681cb1e",
   "metadata": {},
   "outputs": [
    {
     "name": "stdout",
     "output_type": "stream",
     "text": [
      "<class 'pandas.core.frame.DataFrame'>\n",
      "RangeIndex: 18409 entries, 0 to 18408\n",
      "Data columns (total 4 columns):\n",
      " #   Column     Non-Null Count  Dtype  \n",
      "---  ------     --------------  -----  \n",
      " 0   Video ID   18409 non-null  object \n",
      " 1   Comment    18408 non-null  object \n",
      " 2   Likes      18409 non-null  float64\n",
      " 3   Sentiment  18409 non-null  float64\n",
      "dtypes: float64(2), object(2)\n",
      "memory usage: 575.4+ KB\n"
     ]
    }
   ],
   "source": [
    "comm.info()"
   ]
  },
  {
   "cell_type": "code",
   "execution_count": 36,
   "id": "04a97f92-ab62-4d84-a776-d077c0b842e2",
   "metadata": {},
   "outputs": [
    {
     "data": {
      "text/plain": [
       "Index(['video_id', 'comment', 'comment_likes', 'comment_sentiment'], dtype='object')"
      ]
     },
     "execution_count": 36,
     "metadata": {},
     "output_type": "execute_result"
    }
   ],
   "source": [
    "#renaming the columns before joining this df with the video-stats df\n",
    "\n",
    "#print(comm.columns)\n",
    "\n",
    "#comm.rename(columns = {'Video ID': 'video_id', 'Comment': 'comment', 'Likes': 'comment_likes', 'Sentiment': 'comment_sentiment'}, inplace = True)\n",
    "comm.columns"
   ]
  },
  {
   "cell_type": "markdown",
   "id": "b322345b-fd21-4f51-82a8-a4fb5f842c1c",
   "metadata": {},
   "source": [
    "#### Now let's clean the video-stats dataframe:"
   ]
  },
  {
   "cell_type": "code",
   "execution_count": 13,
   "id": "50715a23-28c8-4a0a-a7d3-dcacbf7afaf9",
   "metadata": {},
   "outputs": [
    {
     "name": "stdout",
     "output_type": "stream",
     "text": [
      "<class 'pandas.core.frame.DataFrame'>\n",
      "RangeIndex: 1881 entries, 0 to 1880\n",
      "Data columns (total 7 columns):\n",
      " #   Column        Non-Null Count  Dtype  \n",
      "---  ------        --------------  -----  \n",
      " 0   Title         1881 non-null   object \n",
      " 1   Video ID      1881 non-null   object \n",
      " 2   Published At  1881 non-null   object \n",
      " 3   Keyword       1881 non-null   object \n",
      " 4   Likes         1879 non-null   float64\n",
      " 5   Comments      1879 non-null   float64\n",
      " 6   Views         1879 non-null   float64\n",
      "dtypes: float64(3), object(4)\n",
      "memory usage: 103.0+ KB\n"
     ]
    }
   ],
   "source": [
    "#dropped the unnamed column from the stats dataframe\n",
    "\n",
    "videostats = videostats_df.drop(columns='Unnamed: 0')\n",
    "videostats.info()"
   ]
  },
  {
   "cell_type": "code",
   "execution_count": 14,
   "id": "4719a886-87f8-4b18-9f73-79543108be31",
   "metadata": {},
   "outputs": [
    {
     "name": "stdout",
     "output_type": "stream",
     "text": [
      "Index(['Title', 'Video ID', 'Published At', 'Keyword', 'Likes', 'Comments',\n",
      "       'Views'],\n",
      "      dtype='object')\n"
     ]
    },
    {
     "data": {
      "text/plain": [
       "Index(['title', 'video_id', 'published_at', 'keyword', 'video_likes',\n",
       "       'video_comments', 'video_views'],\n",
       "      dtype='object')"
      ]
     },
     "execution_count": 14,
     "metadata": {},
     "output_type": "execute_result"
    }
   ],
   "source": [
    "#renaming the columns before joing this df with the comments df\n",
    "\n",
    "print(videostats.columns)\n",
    "videostats.rename(columns = {'Title': 'title', 'Video ID': 'video_id', 'Published At': 'published_at', 'Keyword': 'keyword', 'Likes': 'video_likes', 'Comments': 'video_comments', 'Views': 'video_views'}, inplace = True)\n",
    "videostats.columns"
   ]
  },
  {
   "cell_type": "markdown",
   "id": "6d96d6ec-978c-4a67-9843-b9cfb5231101",
   "metadata": {},
   "source": [
    "## Manipulating Data\n",
    "##### Time to organize and arrange the dataframes. Prior to combining both the comments and video stats dataframes, I will remove duplicates and see if there are any nulls."
   ]
  },
  {
   "cell_type": "code",
   "execution_count": 38,
   "id": "16ec7ae8-aab9-429b-8315-bcc2af5bdf01",
   "metadata": {},
   "outputs": [
    {
     "data": {
      "text/plain": [
       "video_id             0\n",
       "comment              1\n",
       "comment_likes        0\n",
       "comment_sentiment    0\n",
       "dtype: int64"
      ]
     },
     "execution_count": 38,
     "metadata": {},
     "output_type": "execute_result"
    }
   ],
   "source": [
    "comm.isnull().sum()"
   ]
  },
  {
   "cell_type": "code",
   "execution_count": 39,
   "id": "274f514e-03a7-4fd2-8db0-4e9de0b477c3",
   "metadata": {},
   "outputs": [],
   "source": [
    "comments = comm.dropna()"
   ]
  },
  {
   "cell_type": "code",
   "execution_count": 40,
   "id": "24d636a5-61fa-4c7d-adad-40b48f988759",
   "metadata": {},
   "outputs": [
    {
     "data": {
      "text/plain": [
       "video_id             0\n",
       "comment              0\n",
       "comment_likes        0\n",
       "comment_sentiment    0\n",
       "dtype: int64"
      ]
     },
     "execution_count": 40,
     "metadata": {},
     "output_type": "execute_result"
    }
   ],
   "source": [
    "comments.isnull().sum()"
   ]
  },
  {
   "cell_type": "code",
   "execution_count": 41,
   "id": "75785949-2c58-4815-9aaf-458f00c46eb8",
   "metadata": {},
   "outputs": [
    {
     "data": {
      "text/plain": [
       "title             0\n",
       "video_id          0\n",
       "published_at      0\n",
       "keyword           0\n",
       "video_likes       2\n",
       "video_comments    2\n",
       "video_views       2\n",
       "dtype: int64"
      ]
     },
     "execution_count": 41,
     "metadata": {},
     "output_type": "execute_result"
    }
   ],
   "source": [
    "videostats.isnull().sum()"
   ]
  },
  {
   "cell_type": "code",
   "execution_count": 18,
   "id": "7274a6fb-ab7b-4165-b21f-526a5dc4b0b9",
   "metadata": {},
   "outputs": [],
   "source": [
    "stats = videostats.dropna()"
   ]
  },
  {
   "cell_type": "code",
   "execution_count": 19,
   "id": "c22b5cfe-6730-4f8c-906b-35c9714e0541",
   "metadata": {},
   "outputs": [
    {
     "data": {
      "text/plain": [
       "title             0\n",
       "video_id          0\n",
       "published_at      0\n",
       "keyword           0\n",
       "video_likes       0\n",
       "video_comments    0\n",
       "video_views       0\n",
       "dtype: int64"
      ]
     },
     "execution_count": 19,
     "metadata": {},
     "output_type": "execute_result"
    }
   ],
   "source": [
    "stats.isnull().sum()"
   ]
  },
  {
   "cell_type": "code",
   "execution_count": 24,
   "id": "bf5eaef4-27ef-4465-baf1-95d322cf2708",
   "metadata": {},
   "outputs": [],
   "source": [
    "# There are 2 nulls in the videostats df in 3 columns and 1 null in the comm df in 1 column. I removed all nulls."
   ]
  },
  {
   "cell_type": "code",
   "execution_count": 42,
   "id": "278cc942-0169-4eb6-bbe1-0910d2b43052",
   "metadata": {},
   "outputs": [],
   "source": [
    "#combining both stats and comments datasets \n",
    "\n",
    "videostats_comments = pd.merge(stats, comments, on=['video_id'])"
   ]
  },
  {
   "cell_type": "code",
   "execution_count": 27,
   "id": "c325cab2-a91e-426c-8e71-606e725d72fb",
   "metadata": {},
   "outputs": [
    {
     "data": {
      "text/plain": [
       "148"
      ]
     },
     "execution_count": 27,
     "metadata": {},
     "output_type": "execute_result"
    }
   ],
   "source": [
    "# Now let's check if there any duplicates and where they're located\n",
    "videostats.duplicated().sum()\n",
    "comments.duplicated().sum()"
   ]
  },
  {
   "cell_type": "code",
   "execution_count": 43,
   "id": "011e5c32-2b51-4b49-98a6-b89faeb108fb",
   "metadata": {},
   "outputs": [
    {
     "data": {
      "text/plain": [
       "258"
      ]
     },
     "execution_count": 43,
     "metadata": {},
     "output_type": "execute_result"
    }
   ],
   "source": [
    "videostats_comments.duplicated().sum()"
   ]
  },
  {
   "cell_type": "code",
   "execution_count": 45,
   "id": "5ecea64d-bfef-4583-84cf-67f2feee1013",
   "metadata": {},
   "outputs": [
    {
     "data": {
      "text/plain": [
       "0"
      ]
     },
     "execution_count": 45,
     "metadata": {},
     "output_type": "execute_result"
    }
   ],
   "source": [
    "#removing the duplicates from the merged dataset\n",
    "dup_free = videostats_comments.drop_duplicates(subset=['comment'], keep='first', inplace=False, ignore_index=False) #removing the dups and creating new DF in case I can keep the dups\n",
    "dup_free.duplicated().sum()"
   ]
  },
  {
   "cell_type": "code",
   "execution_count": 46,
   "id": "9e45473b-c12b-40a6-9abf-c233065c1ab6",
   "metadata": {},
   "outputs": [
    {
     "data": {
      "text/html": [
       "<div>\n",
       "<style scoped>\n",
       "    .dataframe tbody tr th:only-of-type {\n",
       "        vertical-align: middle;\n",
       "    }\n",
       "\n",
       "    .dataframe tbody tr th {\n",
       "        vertical-align: top;\n",
       "    }\n",
       "\n",
       "    .dataframe thead th {\n",
       "        text-align: right;\n",
       "    }\n",
       "</style>\n",
       "<table border=\"1\" class=\"dataframe\">\n",
       "  <thead>\n",
       "    <tr style=\"text-align: right;\">\n",
       "      <th></th>\n",
       "      <th>title</th>\n",
       "      <th>video_id</th>\n",
       "      <th>published_at</th>\n",
       "      <th>keyword</th>\n",
       "      <th>comment</th>\n",
       "    </tr>\n",
       "  </thead>\n",
       "  <tbody>\n",
       "    <tr>\n",
       "      <th>count</th>\n",
       "      <td>18624</td>\n",
       "      <td>18624</td>\n",
       "      <td>18624</td>\n",
       "      <td>18624</td>\n",
       "      <td>18624</td>\n",
       "    </tr>\n",
       "    <tr>\n",
       "      <th>unique</th>\n",
       "      <td>1853</td>\n",
       "      <td>1867</td>\n",
       "      <td>756</td>\n",
       "      <td>41</td>\n",
       "      <td>17974</td>\n",
       "    </tr>\n",
       "    <tr>\n",
       "      <th>top</th>\n",
       "      <td>20 Minecraft Block Facts You Maybe Didn&amp;#39;t ...</td>\n",
       "      <td>ZgeorpjGJC0</td>\n",
       "      <td>2022-08-24</td>\n",
       "      <td>reaction</td>\n",
       "      <td>One of the best thing about Dude is that he\\r\\...</td>\n",
       "    </tr>\n",
       "    <tr>\n",
       "      <th>freq</th>\n",
       "      <td>40</td>\n",
       "      <td>40</td>\n",
       "      <td>2841</td>\n",
       "      <td>519</td>\n",
       "      <td>20</td>\n",
       "    </tr>\n",
       "  </tbody>\n",
       "</table>\n",
       "</div>"
      ],
      "text/plain": [
       "                                                    title     video_id  \\\n",
       "count                                               18624        18624   \n",
       "unique                                               1853         1867   \n",
       "top     20 Minecraft Block Facts You Maybe Didn&#39;t ...  ZgeorpjGJC0   \n",
       "freq                                                   40           40   \n",
       "\n",
       "       published_at   keyword  \\\n",
       "count         18624     18624   \n",
       "unique          756        41   \n",
       "top      2022-08-24  reaction   \n",
       "freq           2841       519   \n",
       "\n",
       "                                                  comment  \n",
       "count                                               18624  \n",
       "unique                                              17974  \n",
       "top     One of the best thing about Dude is that he\\r\\...  \n",
       "freq                                                   20  "
      ]
     },
     "execution_count": 46,
     "metadata": {},
     "output_type": "execute_result"
    }
   ],
   "source": [
    "videostats_comments.describe(include=['object']) #before dup removal"
   ]
  },
  {
   "cell_type": "code",
   "execution_count": 47,
   "id": "2f937888-0dd8-47eb-8d5f-80145c759002",
   "metadata": {},
   "outputs": [
    {
     "data": {
      "text/html": [
       "<div>\n",
       "<style scoped>\n",
       "    .dataframe tbody tr th:only-of-type {\n",
       "        vertical-align: middle;\n",
       "    }\n",
       "\n",
       "    .dataframe tbody tr th {\n",
       "        vertical-align: top;\n",
       "    }\n",
       "\n",
       "    .dataframe thead th {\n",
       "        text-align: right;\n",
       "    }\n",
       "</style>\n",
       "<table border=\"1\" class=\"dataframe\">\n",
       "  <thead>\n",
       "    <tr style=\"text-align: right;\">\n",
       "      <th></th>\n",
       "      <th>title</th>\n",
       "      <th>video_id</th>\n",
       "      <th>published_at</th>\n",
       "      <th>keyword</th>\n",
       "      <th>comment</th>\n",
       "    </tr>\n",
       "  </thead>\n",
       "  <tbody>\n",
       "    <tr>\n",
       "      <th>count</th>\n",
       "      <td>17974</td>\n",
       "      <td>17974</td>\n",
       "      <td>17974</td>\n",
       "      <td>17974</td>\n",
       "      <td>17974</td>\n",
       "    </tr>\n",
       "    <tr>\n",
       "      <th>unique</th>\n",
       "      <td>1852</td>\n",
       "      <td>1866</td>\n",
       "      <td>756</td>\n",
       "      <td>41</td>\n",
       "      <td>17974</td>\n",
       "    </tr>\n",
       "    <tr>\n",
       "      <th>top</th>\n",
       "      <td>Tiësto - The Business (Lyrics)</td>\n",
       "      <td>wAZZ-UWGVHI</td>\n",
       "      <td>2022-08-24</td>\n",
       "      <td>tutorial</td>\n",
       "      <td>Let's not forget that Apple Pay in 2014 requir...</td>\n",
       "    </tr>\n",
       "    <tr>\n",
       "      <th>freq</th>\n",
       "      <td>30</td>\n",
       "      <td>10</td>\n",
       "      <td>2613</td>\n",
       "      <td>500</td>\n",
       "      <td>1</td>\n",
       "    </tr>\n",
       "  </tbody>\n",
       "</table>\n",
       "</div>"
      ],
      "text/plain": [
       "                                 title     video_id published_at   keyword  \\\n",
       "count                            17974        17974        17974     17974   \n",
       "unique                            1852         1866          756        41   \n",
       "top     Tiësto - The Business (Lyrics)  wAZZ-UWGVHI   2022-08-24  tutorial   \n",
       "freq                                30           10         2613       500   \n",
       "\n",
       "                                                  comment  \n",
       "count                                               17974  \n",
       "unique                                              17974  \n",
       "top     Let's not forget that Apple Pay in 2014 requir...  \n",
       "freq                                                    1  "
      ]
     },
     "execution_count": 47,
     "metadata": {},
     "output_type": "execute_result"
    }
   ],
   "source": [
    "dup_free.describe(include=['object']) #after dup removal"
   ]
  },
  {
   "cell_type": "code",
   "execution_count": 48,
   "id": "3d0e74c9-285a-4f94-9367-df1273fc8aef",
   "metadata": {},
   "outputs": [],
   "source": [
    "#exporting a new csv and xlsx without the dups\n",
    "\n",
    "dup_free.to_csv('vstatsc_dupfree.csv', index=False)\n",
    "dup_free.to_excel('youtubestats_2.xlsx', index=False)"
   ]
  },
  {
   "cell_type": "markdown",
   "id": "bef9757c-e6f4-4b0f-af98-d606062e1014",
   "metadata": {},
   "source": [
    "## Exploratory Data Analysis\n",
    "#### Keep Note:\n",
    "##### Dirty datasets:\n",
    "    * comm\n",
    "    * videostats\n",
    "\n",
    "##### Clean datasets: \n",
    "    * comments\n",
    "    * stats\n",
    "\n",
    "##### Clean datasets merged:\n",
    "    * videostats_comments\n",
    "    \n",
    "    \n",
    "##### Clean datasets merged & duplicate free:\n",
    "    * dup_free"
   ]
  },
  {
   "cell_type": "code",
   "execution_count": 51,
   "id": "7c49480f-91ee-478c-8c0a-4c45182c9b0d",
   "metadata": {},
   "outputs": [
    {
     "data": {
      "text/html": [
       "<div>\n",
       "<style scoped>\n",
       "    .dataframe tbody tr th:only-of-type {\n",
       "        vertical-align: middle;\n",
       "    }\n",
       "\n",
       "    .dataframe tbody tr th {\n",
       "        vertical-align: top;\n",
       "    }\n",
       "\n",
       "    .dataframe thead th {\n",
       "        text-align: right;\n",
       "    }\n",
       "</style>\n",
       "<table border=\"1\" class=\"dataframe\">\n",
       "  <thead>\n",
       "    <tr style=\"text-align: right;\">\n",
       "      <th></th>\n",
       "      <th>video_likes</th>\n",
       "      <th>video_comments</th>\n",
       "      <th>video_views</th>\n",
       "      <th>comment_likes</th>\n",
       "      <th>comment_sentiment</th>\n",
       "    </tr>\n",
       "  </thead>\n",
       "  <tbody>\n",
       "    <tr>\n",
       "      <th>count</th>\n",
       "      <td>17974</td>\n",
       "      <td>17974</td>\n",
       "      <td>17974</td>\n",
       "      <td>17974</td>\n",
       "      <td>17974</td>\n",
       "    </tr>\n",
       "    <tr>\n",
       "      <th>mean</th>\n",
       "      <td>168822</td>\n",
       "      <td>7862.61</td>\n",
       "      <td>1.18297e+07</td>\n",
       "      <td>992.542</td>\n",
       "      <td>1.48971</td>\n",
       "    </tr>\n",
       "    <tr>\n",
       "      <th>std</th>\n",
       "      <td>787759</td>\n",
       "      <td>37786.1</td>\n",
       "      <td>1.1057e+08</td>\n",
       "      <td>9582.96</td>\n",
       "      <td>0.71287</td>\n",
       "    </tr>\n",
       "    <tr>\n",
       "      <th>min</th>\n",
       "      <td>-1</td>\n",
       "      <td>-1</td>\n",
       "      <td>25</td>\n",
       "      <td>0</td>\n",
       "      <td>0</td>\n",
       "    </tr>\n",
       "    <tr>\n",
       "      <th>25%</th>\n",
       "      <td>2945</td>\n",
       "      <td>222</td>\n",
       "      <td>95369</td>\n",
       "      <td>5</td>\n",
       "      <td>1</td>\n",
       "    </tr>\n",
       "    <tr>\n",
       "      <th>50%</th>\n",
       "      <td>15576</td>\n",
       "      <td>864</td>\n",
       "      <td>609802</td>\n",
       "      <td>30</td>\n",
       "      <td>2</td>\n",
       "    </tr>\n",
       "    <tr>\n",
       "      <th>75%</th>\n",
       "      <td>61448</td>\n",
       "      <td>3469</td>\n",
       "      <td>2.85376e+06</td>\n",
       "      <td>195</td>\n",
       "      <td>2</td>\n",
       "    </tr>\n",
       "    <tr>\n",
       "      <th>max</th>\n",
       "      <td>1.64456e+07</td>\n",
       "      <td>732818</td>\n",
       "      <td>4.03412e+09</td>\n",
       "      <td>891372</td>\n",
       "      <td>2</td>\n",
       "    </tr>\n",
       "  </tbody>\n",
       "</table>\n",
       "</div>"
      ],
      "text/plain": [
       "       video_likes video_comments  video_views comment_likes comment_sentiment\n",
       "count        17974          17974        17974         17974             17974\n",
       "mean        168822        7862.61  1.18297e+07       992.542           1.48971\n",
       "std         787759        37786.1   1.1057e+08       9582.96           0.71287\n",
       "min             -1             -1           25             0                 0\n",
       "25%           2945            222        95369             5                 1\n",
       "50%          15576            864       609802            30                 2\n",
       "75%          61448           3469  2.85376e+06           195                 2\n",
       "max    1.64456e+07         732818  4.03412e+09        891372                 2"
      ]
     },
     "execution_count": 51,
     "metadata": {},
     "output_type": "execute_result"
    }
   ],
   "source": [
    "#basic statistics\n",
    "\n",
    "dup_free.describe().apply(lambda s: s.apply(lambda x: format(x, 'g')))"
   ]
  },
  {
   "cell_type": "code",
   "execution_count": 52,
   "id": "2550d15a-cf85-412d-aad3-624683c5a453",
   "metadata": {},
   "outputs": [
    {
     "data": {
      "text/html": [
       "<div>\n",
       "<style scoped>\n",
       "    .dataframe tbody tr th:only-of-type {\n",
       "        vertical-align: middle;\n",
       "    }\n",
       "\n",
       "    .dataframe tbody tr th {\n",
       "        vertical-align: top;\n",
       "    }\n",
       "\n",
       "    .dataframe thead th {\n",
       "        text-align: right;\n",
       "    }\n",
       "</style>\n",
       "<table border=\"1\" class=\"dataframe\">\n",
       "  <thead>\n",
       "    <tr style=\"text-align: right;\">\n",
       "      <th></th>\n",
       "      <th>title</th>\n",
       "      <th>video_id</th>\n",
       "      <th>published_at</th>\n",
       "      <th>keyword</th>\n",
       "      <th>comment</th>\n",
       "    </tr>\n",
       "  </thead>\n",
       "  <tbody>\n",
       "    <tr>\n",
       "      <th>count</th>\n",
       "      <td>17974</td>\n",
       "      <td>17974</td>\n",
       "      <td>17974</td>\n",
       "      <td>17974</td>\n",
       "      <td>17974</td>\n",
       "    </tr>\n",
       "    <tr>\n",
       "      <th>unique</th>\n",
       "      <td>1852</td>\n",
       "      <td>1866</td>\n",
       "      <td>756</td>\n",
       "      <td>41</td>\n",
       "      <td>17974</td>\n",
       "    </tr>\n",
       "    <tr>\n",
       "      <th>top</th>\n",
       "      <td>Tiësto - The Business (Lyrics)</td>\n",
       "      <td>wAZZ-UWGVHI</td>\n",
       "      <td>2022-08-24</td>\n",
       "      <td>tutorial</td>\n",
       "      <td>Let's not forget that Apple Pay in 2014 requir...</td>\n",
       "    </tr>\n",
       "    <tr>\n",
       "      <th>freq</th>\n",
       "      <td>30</td>\n",
       "      <td>10</td>\n",
       "      <td>2613</td>\n",
       "      <td>500</td>\n",
       "      <td>1</td>\n",
       "    </tr>\n",
       "  </tbody>\n",
       "</table>\n",
       "</div>"
      ],
      "text/plain": [
       "                                 title     video_id published_at   keyword  \\\n",
       "count                            17974        17974        17974     17974   \n",
       "unique                            1852         1866          756        41   \n",
       "top     Tiësto - The Business (Lyrics)  wAZZ-UWGVHI   2022-08-24  tutorial   \n",
       "freq                                30           10         2613       500   \n",
       "\n",
       "                                                  comment  \n",
       "count                                               17974  \n",
       "unique                                              17974  \n",
       "top     Let's not forget that Apple Pay in 2014 requir...  \n",
       "freq                                                    1  "
      ]
     },
     "execution_count": 52,
     "metadata": {},
     "output_type": "execute_result"
    }
   ],
   "source": [
    "dup_free.describe(include=['object'])"
   ]
  },
  {
   "cell_type": "code",
   "execution_count": null,
   "id": "2f25b175-6712-491a-99fa-34726709709b",
   "metadata": {},
   "outputs": [],
   "source": [
    "# After cleaning the datasets and looking at the basic statistics, I used excel pivot tables to perform exploratory data analysis. Then I used tableau to create my visuals."
   ]
  }
 ],
 "metadata": {
  "kernelspec": {
   "display_name": "Python 3 (ipykernel)",
   "language": "python",
   "name": "python3"
  },
  "language_info": {
   "codemirror_mode": {
    "name": "ipython",
    "version": 3
   },
   "file_extension": ".py",
   "mimetype": "text/x-python",
   "name": "python",
   "nbconvert_exporter": "python",
   "pygments_lexer": "ipython3",
   "version": "3.9.13"
  }
 },
 "nbformat": 4,
 "nbformat_minor": 5
}
